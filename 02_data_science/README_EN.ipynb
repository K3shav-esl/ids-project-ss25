{
 "cells": [
  {
   "cell_type": "markdown",
   "id": "0",
   "metadata": {
    "collapsed": false,
    "jupyter": {
     "outputs_hidden": false
    }
   },
   "source": [
    "# IDS Challenge\n",
    "## 02 Data Science: Instructions and notes\n",
    "\n",
    "Your task in this sub-project is the conception and training of a data science model for the\n",
    "**prediction of the energy consumption** of the robots during the execution of orders (e.g. picking up a sample from a machine).\n",
    "\n",
    "For this purpose, a **data set** is available that contains actual measured energy consumption of orders that have already been carried out.\n",
    "You are to analyze, (pre-)process and use this data set to create a forecast model for future orders.\n",
    "The use of appropriate Python libraries such as *pandas* and *scikit-learn* is recommended.\n",
    "\n",
    "Don't worry, you don't have to start from scratch to solve the task. \n",
    "In your previous team, Ananya was responsible for data science.\n",
    "She had already started analyzing data and experimenting with different models and model configurations on a slightly different data basis.\n",
    "From this source, some **code snippets** are available in the notebook `blueprint_EN.ipynb`, which you can reuse and develop further.\n",
    "\n",
    "Implement your solutions in the existing Jupyter notebook `submission_tp2_data_science.ipynb`. \n",
    "Then upload the Jupyter Notebook with your solutions to ILIAS."
   ]
  },
  {
   "cell_type": "markdown",
   "id": "1",
   "metadata": {
    "collapsed": false,
    "jupyter": {
     "outputs_hidden": false
    }
   },
   "source": [
    "### Repository overview\n",
    "\n",
    "Here you will find an overview of the files for this sub-project.\n",
    "\n",
    "```bash\n",
    "├───prediction_blueprint\n",
    "│   ├───blueprint_EN.ipynb\n",
    "│   ├───blueprint_data_assessment.csv\n",
    "│   ├───blueprint_data_train.csv\n",
    "└───production_dataset\n",
    "│   ├───robot_energy_data_train.csv\n",
    "├───submission_tp2_data_science.ipynb\n",
    "├───README_EN.ipynb\n",
    "```"
   ]
  },
  {
   "cell_type": "markdown",
   "id": "2",
   "metadata": {
    "collapsed": false,
    "jupyter": {
     "outputs_hidden": false
    }
   },
   "source": [
    "### Dataset\n",
    "\n",
    "The data set relevant for your forecast model can be found at\n",
    "`production_dataset/robot_energy_data_train.csv`.\n",
    "\n",
    "This contains data on completed orders and the energy consumption measured.\n",
    "The aim is therefore to develop a machine learning model that can predict energy consumption as accurately as possible based on given job characteristics.\n",
    "\n",
    "The data set has a number of columns that need to be critically examined.\n",
    "Not all columns are necessarily relevant for energy consumption during order execution.\n",
    "Furthermore, the data in some columns may not be able to be processed in the existing form,\n",
    "but must first be suitably pre-processed (transformed).\n",
    "\n",
    "Minimal documentation on the columns of the data set is available:\n",
    "\n",
    "| Column name | Data type | Description |\n",
    "|---|---|---|\n",
    "| **Robot** | str | The name of the robot that performed the task. |\n",
    "| **Distance [m]** | float | Distance to be covered in meters. |\n",
    "| **Levels** | int | Floor difference between start and destination point (with sign). |\n",
    "| **Cargo [kg]** | float | Weight of additional load of the robot during order execution in kg. |\n",
    "| **Elevation [m]** | int | Difference in height between start and destination point in meters. |\n",
    "| **Battery Level** | float | Battery level of the robot at the start of job execution in %. According to the robot manufacturer, battery levels below 10% may result in increased energy consumption. |\n",
    "| **Time of Day [h]** | float | Time of day of job execution, specifically: time in hours since midnight (at the start of the job). May be relevant, as between 9:00 a.m. and 5:00 p.m. there is increased work activity by the logistics employees and the movement of the robot can be influenced by necessary evasive maneuvers. |\n",
    "| **Battery Error** | bool | Indicates whether there was a battery problem during order execution (e.g., complete emptying). |\n",
    "| ***Energy [kJ]*** | float | Energy consumed in kilojoules during job execution. Prediction target. |   \n",
    "\n",
    "\n",
    "Take a close look at the data and, based on the description, statistics, visualizations and understanding of the problem, decide \n",
    "which of the columns should be included in the forecast model and in what form.\n",
    "\n",
    "In some cases, it may make sense not to enter the data for a column into the model in its raw form, but to carry out pre-processing first.\n",
    "\n",
    "You may also find a few helpful hints in the blueprint notebook (description follows).\n",
    "\n",
    "Your company's CTO will also let you know that part of the data set has been split off in advance.\n",
    "He will keep this split-off \"assessment\" part of the data under lock and key and use it at the end of the project, \n",
    "to check the quality of your forecast model."
   ]
  },
  {
   "cell_type": "markdown",
   "id": "3",
   "metadata": {
    "collapsed": false,
    "jupyter": {
     "outputs_hidden": false
    }
   },
   "source": [
    "### Data science task and blueprint\n",
    "\n",
    "As already described, the central task of this sub-project is to **create a prediction model to predict the energy consumption** of the robots for individual orders.\n",
    "\n",
    "The Jupyter notebook under `prediction_blueprint/blueprint_EN.ipynb` contains the work on energy consumption prediction started by Ananya from the previous team.\n",
    "At the time of creating this blueprint notebook, the existing dataset with production data on robot energy consumption was not yet available.\n",
    "Therefore, a similar but different data set with partially different characteristics is considered in the blueprint notebook, \n",
    "which is located in the same folder as the notebook (`blueprint_data_{train/assessment}.csv`).\n",
    "\n",
    "The steps to be carried out when processing the task,\n",
    "which are also carried out in the blueprint notebook, are as follows:\n",
    "\n",
    "1. Data analysis\n",
    "2. Data cleansing\n",
    "3. Feature engineering\n",
    "4. Dataset splitting\n",
    "5. Model training and testing\n",
    "6. Evaluation and encapsulation of the results\n",
    "\n",
    "You are welcome to use this blueprint as a guide when implementing your forecast model.\n",
    "However, please note that there are some differences between the data set used in it and the current data set and check exactly which parts of the code can be adopted and where adjustments or further/other steps are necessary.\n",
    "\n",
    "*Note:* The blueprint notebook does not necessarily contain all the experiments carried out by the former project team.\n",
    "Ananya tried many different variants and experimented a lot with the data/features before finding a variant that worked well.\n",
    "So don't be afraid to experiment a lot - a suitable data science solution is rarely found at the first attempt!\n"
   ]
  },
  {
   "cell_type": "markdown",
   "id": "4",
   "metadata": {
    "collapsed": false,
    "jupyter": {
     "outputs_hidden": false
    }
   },
   "source": [
    "### Requirements due to the new data basis\n",
    "\n",
    "As already described, the exemplary model configuration in the blueprint was carried out on an older preliminary dataset. \n",
    "\n",
    "The more up-to-date data set now available contains the energy consumption of two different robot types (R1, R2).\n",
    "Both robots are fundamentally different in design and have different characteristics (size & shape, movement speeds, maximum additional load,...).\n",
    "It can therefore be assumed that the parameters of the machine learning models used may have to be selected very differently depending on the robot type.\n",
    "It is therefore imperative to split the data set into two partial data sets and to train and evaluate separate models for the two robot types.\n",
    "\n",
    "At least **three different model types** must be trained, including at least one parameter-based model (e.g. linear regression) and one tree-based model (e.g. decision tree).\n",
    "\n",
    "In total, each model type should be trained at least three times, i.e. on the **different data bases**:\n",
    "* On the overall data set\n",
    "* On the data for robots *R1*\n",
    "* On the data for robots *R2*\n",
    "\n",
    "*Note:* To avoid redundancy and keep your code and notebook organized, use functions!\n",
    "\n",
    "Specify **appropriate error metrics** for all trained models.\n",
    "Make sure that such error metrics are only meaningful if they are calculated on data that has not already been used in the model training.\n",
    "\n",
    "**Decide on one of the models that you want to propose for production-use** - justify your decision!\n",
    "Finally, the selected model should be evaluated on the **assessment dataset** provided so far.\n",
    "Specify the quantitative results (meaningful error metrics).\n"
   ]
  },
  {
   "cell_type": "markdown",
   "id": "5",
   "metadata": {
    "collapsed": false,
    "jupyter": {
     "outputs_hidden": false
    }
   },
   "source": [
    "### Acceptance criteria\n",
    "\n",
    "* Jupyter notebook `submission_tp2_data_science.ipynb` with presentation of the solution path (data analysis, data preprocessing, model training, evaluation)\n",
    "* Visualization of the most important data correlations (with *seaborn* or *matplotlib*)\n",
    "* Model training and evaluation for the various sub-data sets and the entire data set (see above). Suitable error metrics must be calculated and specified for all cases.\n",
    "* Proposal of a scikit-learn prediction model that meets the CEO's performance requirements (function for evaluating an unseen data set!)\n",
    "* Comprehensible justification of the data processing performed and the selected model configuration (Witten as text in Jupyter Notebook)\n",
    "* Appealing presentation of the procedure and the results in the lecture (10 minutes in total)"
   ]
  }
 ],
 "metadata": {
  "kernelspec": {
   "display_name": "Python 3 (ipykernel)",
   "language": "python",
   "name": "python3"
  },
  "language_info": {
   "codemirror_mode": {
    "name": "ipython",
    "version": 3
   },
   "file_extension": ".py",
   "mimetype": "text/x-python",
   "name": "python",
   "nbconvert_exporter": "python",
   "pygments_lexer": "ipython3",
   "version": "3.12.7"
  }
 },
 "nbformat": 4,
 "nbformat_minor": 5
}
