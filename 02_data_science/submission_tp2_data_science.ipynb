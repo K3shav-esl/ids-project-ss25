{
 "cells": [
  {
   "cell_type": "markdown",
   "id": "0",
   "metadata": {
    "collapsed": false,
    "jupyter": {
     "outputs_hidden": false
    }
   },
   "source": [
    "# IDS Challenge: Sub-Project 02 Data Science\n",
    "## Results \n",
    "\n",
    "### Group: ___\n",
    "### Tutor: ___\n",
    "\n",
    "This is your workspace - implement all submission-relevant functions and elements here and add short text-descriptions that explain your steps. (See `README_EN.ipynb`)"
   ]
  }
 ],
 "metadata": {
  "kernelspec": {
   "display_name": "Python 3 (ipykernel)",
   "language": "python",
   "name": "python3"
  },
  "language_info": {
   "codemirror_mode": {
    "name": "ipython",
    "version": 3
   },
   "file_extension": ".py",
   "mimetype": "text/x-python",
   "name": "python",
   "nbconvert_exporter": "python",
   "pygments_lexer": "ipython3",
   "version": "3.12.7"
  }
 },
 "nbformat": 4,
 "nbformat_minor": 5
}
