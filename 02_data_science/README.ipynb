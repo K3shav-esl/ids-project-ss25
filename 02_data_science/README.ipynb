{
 "cells": [
  {
   "cell_type": "markdown",
   "id": "0",
   "metadata": {
    "collapsed": false,
    "jupyter": {
     "outputs_hidden": false
    }
   },
   "source": [
    "# IDS Challenge\n",
    "## 02 Data Science: Arbeitsanweisungen und Hinweise\n",
    "\n",
    "Aufgabe in diesem Teilprojekt ist die Konzeption und das Training eines Data-Science-Modells zur \n",
    "**Prognose des Energieverbrauchs** der Roboter bei der Durchführung von Aufträgen (z.B. Abholung einer Probe an einer Maschine).\n",
    "\n",
    "Hierzu ist ein **Datensatz** vorhanden, der tatsächlich gemessene Energieverbräuche bereits durchgeführter Aufträge enthält.\n",
    "Diesen Datensatz sollen Sie analysieren, (vor-)verarbeiten und nutzen, um ein Prognosemodell für künftige Aufträge zu erstellen.\n",
    "Dabei wird die Verwendung entsprechender Python-Bibliotheken wie *pandas* und *scikit-learn* empfohlen.\n",
    "\n",
    "Keine Angst, Sie müssen bei der Lösung der Aufgabe nicht bei Null anfangen. \n",
    "In Ihrem Vorgänger-Team war Ananya für Data Science zuständig.\n",
    "Sie hatte, damals noch auf einer etwas anderen Datengrundlage, bereits begonnen, Datenanalysen durchzuführen und mit verschiedenen Modellen und Modell-Konfigurationen zu experimentieren.\n",
    "Aus dieser Quelle stehen Ihnen im Notebook `blueprint.ipynb` einige **Code-Schnipsel** zur Verfügung, die Sie wiederverwenden und weiterentwickeln können.\n",
    "\n",
    "Implementieren Sie Ihre Lösungen in das bereits vorhandene Jupyter Notebook `abgabe_tp2_data_science.ipynb`. \n",
    "Danach laden Sie das Jupyter Notebook mit Ihren Lösungen in ILIAS hoch.  "
   ]
  },
  {
   "cell_type": "markdown",
   "id": "1",
   "metadata": {
    "collapsed": false,
    "jupyter": {
     "outputs_hidden": false
    }
   },
   "source": [
    "### Repository-Übersicht\n",
    "\n",
    "Hier erhalten Sie eine Übersicht über die Dateien zu dieser Teilaufgabe. \n",
    "\n",
    "```bash\n",
    "├───prediction_blueprint\n",
    "│   ├───blueprint.ipynb\n",
    "│   ├───blueprint_data_assessment.csv\n",
    "│   ├───blueprint_data_train.csv\n",
    "└───production_dataset\n",
    "│   ├───robot_energy_data_train.csv\n",
    "├───abgabe_tp2_data_science.ipynb\n",
    "├───README.ipynb\n",
    "```"
   ]
  },
  {
   "cell_type": "markdown",
   "id": "2",
   "metadata": {
    "collapsed": false,
    "jupyter": {
     "outputs_hidden": false
    }
   },
   "source": [
    "### Datensatz\n",
    "\n",
    "Den für Ihr Prognosemodell relevanten Datensatz finden Sie unter\n",
    "`production_dataset/robot_energy_data_train.csv`.\n",
    "\n",
    "Hier sind Daten zu durchgeführten Aufträgen und dem dabei gemessenen Energieverbrauch enthalten.\n",
    "Ihr Ziel ist es also, ein Data-Science-Modell zu entwickeln, welches den Energieverbrauch basierend auf gegebenen Auftrags-Charakteristika möglichst präzise vorhersagen kann.\n",
    "\n",
    "Der Datensatz verfügt über eine Reihe von Spalten, die es kritisch zu begutachten gilt.\n",
    "Nicht alle Spalten sind zwingend relevant für den Energieverbrauch bei der Auftragsdurchführung.\n",
    "Weiterhin können die Daten mancher Spalten ggf. nicht in der vorliegenden Form verarbeitet werden,\n",
    "sondern müssen zunächst passend vorverarbeitet (transformiert) werden.\n",
    "\n",
    "Eine minimale Dokumentation zu den Spalten des Datensatzes ist vorhanden:\n",
    "\n",
    "| Spaltenname           | Datentyp | Beschreibung                                                                                                                                                                                                                                                                                                     |\n",
    "|-----------------------|----------|------------------------------------------------------------------------------------------------------------------------------------------------------------------------------------------------------------------------------------------------------------------------------------------------------------------|\n",
    "| **Robot**             | str      | Die Bezeichnung des Roboters, der den Auftrag durchgeführt hat.                                                                                                                                                                                                                                                  |\n",
    "| **Distance [m]**      | float    | Zurückzulegende Distanz in Metern.                                                                                                                                                                                                                                                                               |\n",
    "| **Levels**            | int      | Stockwerksdifferenz zwischen Start- und Zielpunkt (mit Vorzeichen).                                                                                                                                                                                                                                              |\n",
    "| **Cargo [kg]**        | float    | Gewicht zusätzlicher Beladung des Roboters bei Auftragsdurchführung in kg.                                                                                                                                                                                                                                       |\n",
    "| **Elevation [m]**     | int      | Höhenunterschied zwischen Start- und Zielpunkt in Metern.                                                                                                                                                                                                                                                        |\n",
    "| **Battery Level**     | float    | Batteriestand des Roboters bei Beginn der Auftragsdurchführung in %. Laut Herstellerangaben der Roboter kann es bei Batterieständen von unter 10% zu einem erhöhten Energieverbrauch kommen.                                                                                                                     | \n",
    "| **Time of Day [h]**   | float    | Tageszeit der Auftragsdurchführung, konkret: Zeit in Stunden seit Mitternacht (bei Auftragsbeginn). Kann relevant sein, da zwischen 9:00 und 17:00 Uhr erhöhter Arbeitsbetrieb durch die Logistik-Mitarbeiter herrscht und die Bewegung des Roboters durch notwendige Ausweich-Maneuver beeinflusst werden kann. |\n",
    "| **Battery Error**     | bool     | Zeigt an, ob es bei der Auftragsdurchführung zu einem Batterie-Problem kam (bspw. vollständige Entleerung).                                                                                                                                                                                                      |\n",
    "| ***Energy [kJ]***     | float    | Bei der Auftragsdurchführung verbrauchte Energie in Kilojoule. Vorhersage-Ziel.                                                                                                                                                                                                                                  |\n",
    "\n",
    "Schauen Sie sich die Daten genau an und entscheiden Sie, basierend auf Beschreibung, Statistiken, Visualisierungen und Problemverständnis, \n",
    "welche der Spalten in welcher Form in das Prognosemodell einfließen sollen.\n",
    "\n",
    "In manchen Fällen kann es Sinn machen, die Daten einer Spalte nicht in der vorliegenden Rohform in das Modell zu geben, sondern zunächst eine Vorverarbeitung durchzuführen.\n",
    "\n",
    "Vielleicht finden Sie auch im Blueprint-Notebook (Beschreibung folgt) ein paar hilfreiche Hinweise.\n",
    "\n",
    "Der CTO Ihres Unternehmens lässt Ihnen außerdem mitteilen, dass ein Teil des Datensatzes vorab abgespalten wurde.\n",
    "Er wird diesen abgespaltenen \"Assessment\"-Teil der Daten unter Verschluss halten und bei Projektabschluss nutzen, \n",
    "um Ihr Prognose-Modell auf seine Güte hin überprüfen zu können. "
   ]
  },
  {
   "cell_type": "markdown",
   "id": "3",
   "metadata": {
    "collapsed": false,
    "jupyter": {
     "outputs_hidden": false
    }
   },
   "source": [
    "### Data-Science Aufgabenstellung und Blaupause\n",
    "\n",
    "Wie bereits beschreiben besteht die zentrale Aufgabe dieses Teilprojekts in der **Erstellung eines Prognosemodells zur Vorhersage des Energieverbrauchs** der Roboter für einzelne Aufträge.\n",
    "\n",
    "Das Jupyter Notebook unter `prediction_blueprint/blueprint.ipynb` enthält die von Ananya aus dem Vorgänger-Team begonnen Arbeiten zur Energieverbrauchs-Vorhersage.\n",
    "Zum Zeitpunkt der Erstellung dieses Blaupausen-Notebooks war der vorliegende Datensatz mit Produktiv-Daten zum Energieverbrauch der Roboter noch nicht verfügbar.\n",
    "Daher wird im Blueprint-Notebook ein ähnlicher, jedoch anderer Datensatz mit teilweise anderen Merkmalen betrachtet, \n",
    "welcher sich im gleichen Ordner wie das Notebook befindet (`blueprint_data_{train/assessment}.csv`).\n",
    "\n",
    "Die bei der Bearbeitung der Aufgabenstellung durchzuführenden Schritte,\n",
    "welche auch im Blueprint-Notebook durchgeführt werden, sind die folgenden:\n",
    "\n",
    "1. Datenanalyse\n",
    "2. Datenbereinigung\n",
    "3. Feature Engineering\n",
    "4. Datensatz-Splitting\n",
    "5. Modell-Training und -Test\n",
    "6. Evaluation und Kapselung der Ergebnisse\n",
    "\n",
    "Orientieren Sie sich bei der Implementierung Ihres Prognose-Modells gerne zunächst an dieser Blaupause.\n",
    "Beachten Sie jedoch, dass es einige Unterschiede zwischen dem darin verwendeten und dem aktuellen Datensatz gibt und prüfen Sie genau, welche Code-Teile übernommen werden können und wo Anpassungen oder weitere/andere Schritte notwendig sind.\n",
    "\n",
    "*Hinweis:* Das Blueprint-Notebook beinhaltet nicht unbedingt alle Experimente, die von der ehemaligen Projektbesetzung durchgeführt wurden.\n",
    "Ananya hat sehr viele verschiedene Varianten ausprobiert und viel mit dem Daten/Features experimentiert bevor eine gut funktionierende Variante gefunden wurde.\n",
    "Scheuen Sie sich also nicht, viel zu experimentieren - selten wird eine geeignete Data-Science-Lösung gleich im ersten Anlauf gefunden!"
   ]
  },
  {
   "cell_type": "markdown",
   "id": "4",
   "metadata": {
    "collapsed": false,
    "jupyter": {
     "outputs_hidden": false
    }
   },
   "source": [
    "### Anforderungen aufgrund der neuen Datengrundlagen\n",
    "\n",
    "Wie bereits beschrieben wurde die exemplarische Modellkonfiguration in der Blaupause auf einem älteren vorläufigen Datensatz durchgeführt. \n",
    "\n",
    "Im nun vorliegenden, aktuelleren Datensatz sind Energieverbräuche zwei verschiedener Robotertypen (R1, R2) enthalten.\n",
    "Beide Roboter sind von der Bauart grundlegend unterschiedlich und haben abweichende Eigenschaften (Größe & Form, Bewegungsgeschwindigkeiten, maximale Zusatzlast,...).\n",
    "Daher ist anzunehmen, dass die Parameter der eingesetzten Machine-Learning-Modelle je nach Robotertyp möglicherweise sehr unterschiedlich gewählt werden müssen.\n",
    "Somit ist es zwingend erforderlich, den Datensatz in zwei Teildatensätze aufzuteilen und separate Modelle für die beiden Robotertypen zu trainieren und zu evaluieren.\n",
    "\n",
    "Es müssen mindestens **drei verschiedene Modelltpyen** trainiert werden, dabei müssen mindestens ein Parameterbasiertes Modell (z.B. Lineare Regression) sowie ein Baum-basiertes Modell (z.B. Decision Tree) enthalten sein.\n",
    "\n",
    "Insgesamt soll jeder Modelltyp mindestens dreimal, d.h. auf den **verschiedenen Datengrundlagen** trainiert werden:\n",
    "* Auf dem Gesamtdatensatz\n",
    "* Auf den Daten für Roboter *R1*\n",
    "* Auf den Daten für Roboter *R2* \n",
    "\n",
    "*Hinweis:* Um Redundanz zu vermeiden und Ihren Code und Ihr Notebook übersichtlich zu gestalten, verwenden Sie Funktionen!\n",
    "\n",
    "Geben Sie für alle trainierten Modelle **geeignete Fehlermetriken** an.\n",
    "Achten Sie dabei darauf, dass solche Fehlermetriken nur dann aussagekräftig sind, wenn Sie auf Daten berechnet werden, die nicht bereits im Modelltraining verwendet wurden.\n",
    "\n",
    "**Entscheiden Sie sich für eines der Modelle, das Sie für den Produktiv-Einsatz vorschlagen wollen** - begründen Sie Ihre Entscheidung!\n",
    "Das gewählte Modell soll abschließend auf dem bisher vorgehaltenen **Assessment-Datensatz evaluiert** werden.\n",
    "Geben Sie die quantitativen Ergebnisse (aussagekräftige Fehlermetriken) an."
   ]
  },
  {
   "cell_type": "markdown",
   "id": "5",
   "metadata": {
    "collapsed": false,
    "jupyter": {
     "outputs_hidden": false
    }
   },
   "source": [
    "### Abnahmekriterien\n",
    "\n",
    "* Jupyter-Notebook `abgabe_tp2_data_science.ipynb` mit Darstellung des Lösungswegs (Datenanalyse, Datenvorverarbeitung, Modell-Training, Evaluation)\n",
    "* Visualisierung der wichtigsten Datenzusammenhänge (mit *seaborn* oder *matplotlib*)\n",
    "* Modell-Trainings und -Evaluationen für die verschiedenen Teil-, sowie den Gesamtdatensatz (siehe oben). Es sind für alle Fälle geeignete Fehler-Metriken zu berechnen und anzugeben.\n",
    "* Vorschlag eines Scikit-Learn Prognose-Modells, welches den Performanz-Anforderungen des CEO entspricht (Funktion zur Evaluation eines ungesehenen Datensatzes!)\n",
    "* Nachvollziehbare Begründungen der durchgeführten Datenverarbeitungen und der gewählten Modellkonfiguration (textuell im Jupyter Notebook)\n",
    "* Ansprechende Präsentation des Vorgehens und der Ergebnisse im Vortrag (insgesamt 10 Minuten)"
   ]
  }
 ],
 "metadata": {
  "kernelspec": {
   "display_name": "Python 3 (ipykernel)",
   "language": "python",
   "name": "python3"
  },
  "language_info": {
   "codemirror_mode": {
    "name": "ipython",
    "version": 3
   },
   "file_extension": ".py",
   "mimetype": "text/x-python",
   "name": "python",
   "nbconvert_exporter": "python",
   "pygments_lexer": "ipython3",
   "version": "3.12.7"
  }
 },
 "nbformat": 4,
 "nbformat_minor": 5
}
