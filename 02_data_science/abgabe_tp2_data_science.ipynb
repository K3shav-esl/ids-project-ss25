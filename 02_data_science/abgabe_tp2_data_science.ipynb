{
 "cells": [
  {
   "cell_type": "markdown",
   "id": "0",
   "metadata": {
    "collapsed": false,
    "jupyter": {
     "outputs_hidden": false
    }
   },
   "source": [
    "# IDS Challenge: Teilprojekt 02 Data Science\n",
    "## Ergebnisse \n",
    "\n",
    "### Gruppe: ___\n",
    "### Tutor: ___\n",
    "\n",
    "Das ist Ihr Arbeitsbereich - Implementieren Sie hier alle Abnahme-relevanten Funktionen und Elemente und fügen Sie kurze textuelle Beschreibungen hinzu, die Ihre Schritte erklären. (Siehe `README.ipynb`)"
   ]
  }
 ],
 "metadata": {
  "kernelspec": {
   "display_name": "Python 3 (ipykernel)",
   "language": "python",
   "name": "python3"
  },
  "language_info": {
   "codemirror_mode": {
    "name": "ipython",
    "version": 3
   },
   "file_extension": ".py",
   "mimetype": "text/x-python",
   "name": "python",
   "nbconvert_exporter": "python",
   "pygments_lexer": "ipython3",
   "version": "3.12.7"
  }
 },
 "nbformat": 4,
 "nbformat_minor": 5
}
