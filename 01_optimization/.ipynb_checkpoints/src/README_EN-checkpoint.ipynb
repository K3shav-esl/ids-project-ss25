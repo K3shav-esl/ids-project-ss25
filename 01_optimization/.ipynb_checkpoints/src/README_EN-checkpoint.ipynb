{
 "cells": [
  {
   "cell_type": "markdown",
   "id": "0",
   "metadata": {},
   "source": [
    "# IDS Challenge\n",
    "\n",
    "# 01 Optimization: Fleet Sizing and Route Optimization for Walking Robots\n",
    "\n",
    "The introduction of walking robots in the maintenance department was a success.\n",
    "The company now wants to use the robots for collecting material samples for quality assurance as well.\n",
    "However, a second type of robot has recently entered the market.\n",
    "The new type is considerably cheaper but has a weaker battery:\n",
    "Type 1, which is already in use, can operate for 10 hours straight before needing to recharge.\n",
    "Type 2, the new robot type, can only operate for 6 hours straight.\n",
    "The prices are not yet completely known and also depend on the number of robots ordered, but the colleagues in the purchasing department believe that the price for type 2 will only be 1/3 or even 1/4 of the price for type 1. \n",
    "For quality assurance, a decision needs to be made on how many robots of each type should be purchased.\n",
    "\n",
    "Until now, the three employees on the morning shift decided themselves in which sequence they would perform their rounds.\n",
    "Now, the sequence the robots should follow is to be determined automatically.\n",
    "In addition, the manager wants to know how many robots of each type need to be purchased\n",
    "in order to take over the three employee rounds.\n",
    "You will need an algorithm that automatically determines a sequence of machines\n",
    "that the robots should visit.\n",
    "Each round starts and ends at the quality assurance lab (also called the depot).\n",
    "A round must not exceed the duration of the early shift (i.e., 8 hours), and must not exceed the energy capacity\n",
    "of the selected robot type.\n",
    "Management will be happy if you complete this task.\n",
    "\n",
    "The following data is provided:\n",
    "\n",
    "* A set of machines with locations from which material samples need to be collected.\n",
    "* The three sets of machines that were previously visited by the three employees during their early shift.\n",
    "  (The sequence the employees used is different and unfortunately unknown.)\n",
    "* For both robot types, a travel–service-time matrix (German: Laufzeit-Servicezeit-Matrix: lsm), which contains the walking times between the machines\n",
    "  and the service times at each machine (i.e., the time the robotic arm needs at each machine to place the sample\n",
    "  into the box on the back of the walking robot).\n",
    "\n",
    "Joshi, from the previous team, has already done some preliminary work to help you solve the task.\n",
    "These preparations are included in this Jupyter notebook.\n",
    "He also had the idea to check whether instead of buying three new robots to directly replace the employee rounds,\n",
    "two robots might be sufficient if the machine assignments are redistributed.\n",
    "If you can answer the first question quickly, Joshi recommends looking into this second question as well.\n",
    "However, you are of course free to think in a different direction and pursue other or more extensive approaches.\n",
    "\n",
    "Joshi has already implemented a function that calculates the total time of a sequence.\n",
    "You will find the function `calc_total_tour_time()` further below.\n",
    "\n",
    "This document contains the preparations and a short message from the previous team!"
   ]
  },
  {
   "cell_type": "markdown",
   "id": "1",
   "metadata": {},
   "source": [
    "# Our Preparations\n",
    "\n",
    "There are already several files available to help you solve the task.\n",
    "\n",
    "### List of Machines for the Three Employees from the QA Team: Gianni, Lissi, and Ben\n",
    "\n",
    "The files `points_gianni_55_42.txt`, `points_lissi_55_42.txt`, and `points_ben_55_42.txt` contain all the machines that each of the three visited.\n",
    "\n",
    "The contents of the files look like this:\n",
    "\n",
    "```\n",
    "0; 0; 450.0; 0  \n",
    "43; 25.696035620363634; 437.3914169849524; 0  \n",
    "44; 293.39534810320026; 479.4355525765641; 1  \n",
    "...\n",
    "```\n",
    "\n",
    "The first number is the index of the machine (or point), the second number is the x-coordinate, the third number is the y-coordinate, and the fourth number is the floor.\n",
    "The start and end point of each robot tour is the quality assurance lab. This start/end point is called the depot and has index 0 (and appears in the first line of all three files).\n",
    "\n",
    "### Travel–Service-Time Matrix\n",
    "\n",
    "To calculate the total tour duration, we need a travel–service-time matrix in addition to the tour sequence.\n",
    "We have stored the LS matrix in the text file `ls_matrix_55_42.txt`.\n",
    "\n",
    "The file looks like this:\n",
    "\n",
    "```\n",
    "0; 0; 0  \n",
    "0; 1; 1000.0  \n",
    "0; 2; 1000.0  \n",
    "0; 3; 1123.606797749979  \n",
    "...\n",
    "```\n",
    "\n",
    "Each line represents a connection (edge) between two points (machines or the depot).\n",
    "The first number is the index of the start point of the connection, the second number is the index of the end point, and the third number\n",
    "is the travle time including the service time at the machine (i.e., the end point of the connection), in seconds.\n",
    "If the endpoint of a connection is the depot, then of course no service time is added.\n",
    "\n",
    "### Calculating Tour Duration Based on a Sequence\n",
    "\n",
    "We have already implemented a function that calculates the tour duration for a given sequence.\n",
    "For this, we created a small example matrix with only 4 machines plus the start/end point.\n",
    "We represent the distance matrix as a dictionary.\n",
    "A function that reads the text files has unfortunately not been implemented yet...\n",
    "\n",
    "So you can use the function `calc_total_tour_time` to calculate the tour duration for a given sequence."
   ]
  },
  {
   "cell_type": "code",
   "id": "2",
   "metadata": {
    "ExecuteTime": {
     "end_time": "2025-06-24T21:31:33.946866Z",
     "start_time": "2025-06-24T21:31:33.914673Z"
    }
   },
   "source": [
    "def calc_total_tour_time(sequ, matrix):\n",
    "    total_time = 0\n",
    "    for i in range(len(sequ)-1):\n",
    "        total_time += matrix[sequ[i], sequ[i+1]]\n",
    "    return total_time"
   ],
   "outputs": [],
   "execution_count": 3
  },
  {
   "cell_type": "markdown",
   "id": "3",
   "metadata": {},
   "source": [
    "Here is the test of the function with our small distance matrix:"
   ]
  },
  {
   "cell_type": "code",
   "id": "4",
   "metadata": {
    "ExecuteTime": {
     "end_time": "2025-06-25T11:55:30.053316Z",
     "start_time": "2025-06-25T11:55:30.028891Z"
    }
   },
   "source": [
    "lsm_dict = {(0, 0): 0, (0, 1): 1000.0, (0, 2): 1000.0, (0, 3): 1123.606797749979, (0, 4): 1123.606797749979, (1, 0): 1000.0, (1, 1): 0, (1, 2): 1100.0, (1, 3): 1182.842712474619, (1, 4): 1100.0, (2, 0): 1000.0, (2, 1): 1100.0, (2, 2): 0, (2, 3): 1100.0, (2, 4): 1182.842712474619, (3, 0): 1123.606797749979, (3, 1): 1182.842712474619, (3, 2): 1100.0, (3, 3): 0, (3, 4): 1100.0, (4, 0): 1123.606797749979, (4, 1): 1100.0, (4, 2): 1182.842712474619, (4, 3): 1100.0, (4, 4): 0}\n",
    "\n",
    "sequence = [0, 2, 3, 4, 1, 0]\n",
    "\n",
    "\n",
    "tour_time_sec = calc_total_tour_time(sequence, lsm_dict)\n",
    "\n",
    "print(f\"Total time for the tour: {tour_time_sec} seconds\")\n",
    "print(f\"Total time for the tour: {tour_time_sec/60} minutes\")\n",
    "print(f\"Total time for the tour: {tour_time_sec/3600} hours\")"
   ],
   "outputs": [
    {
     "name": "stdout",
     "output_type": "stream",
     "text": [
      "Total time for the tour: 5300.0 seconds\n",
      "Total time for the tour: 88.33333333333333 minutes\n",
      "Total time for the tour: 1.4722222222222223 hours\n"
     ]
    }
   ],
   "execution_count": 5
  },
  {
   "cell_type": "markdown",
   "id": "5",
   "metadata": {},
   "source": [
    "# Our Initial Thoughts\n",
    "\n",
    "## Getting an Overview\n",
    "\n",
    "As a first step, we wanted to get an overview and collect all the points from the list of the three team members into a single list.\n",
    "Since the data consists of x-y coordinates, we wanted to create a 2D scatter plot of the points and color them differently depending on which floor the machine is on.\n",
    "We also wanted to label the points with their indices so we can later tell which machine is which.\n",
    "Additionally, we could use different markers for the points depending on whether they belong to Gianni, Lissi, or Ben.\n",
    "Maybe an LLM can help you with creating the scatter plot.\n",
    "\n",
    "## Algorithm to Determine the Sequence\n",
    "\n",
    "We’re not very experienced with optimization.\n",
    "We’ve heard there are algorithms that calculate the optimal sequence (sequences are often also called tours), i.e., the shortest possible sequence given an travel-service-time matrix.\n",
    "But we would first implement a simple algorithm that builds a sequence step-by-step by always attaching the nearest neighbor.\n",
    "In the end, the sequence is completed by adding the starting point to the end — since the robot has to return to the starting point (depot).\n",
    "Maybe this already gives a sequence that is good enough to take over the rounds of the three employees.\n",
    "Alternatively, you could try to find established algorithms (but be aware that you should understand them and be able to explain them in the presentation).\n",
    "\n",
    "We thought it might be a good idea to test things with a very simple setup.\n",
    "We imagined a small distance matrix with just 3 machines and the start/end point.\n",
    "We assumed we are in a 2D space without obstacles and the start/end point is at position (0,0) (index 0), and the machines are at (10,10) (index 1), (0,10) (index 2), and (10,0) (index 3).\n",
    "With that, we could compute a travel time matrix using Euclidean distance (since there are no paths or obstacles), and we could easily draw it.\n",
    "Let’s just assume that one distance unit is traveled in one second.\n",
    "The shortest sequence would then simply be the sequence `[0, 2, 1, 3, 0]` or in reverse `[0, 3, 1, 2, 0]`.\n",
    "\n",
    "Simple examples like this often help us understand how we need to implement the algorithms.\n",
    "If it works for the simple example, then we can think of something slightly more complex and eventually apply it to the real data.\n",
    "\n",
    "Maybe you'll find a way to plot the solution on the scatter plot.\n",
    "\n",
    "Just a reminder: the formula for Euclidean distance between two points is\n",
    "$\\sqrt{(x_1 - x_2)^2 + (y_1 - y_2)^2}$\n",
    "\n",
    "## Number of Robots\n",
    "\n",
    "We also noticed when observing the quality assurance team members that the machine assignments weren’t particularly well-balanced — maybe you'll see that in your scatter plot too.\n",
    "You could try applying the K-Means clustering algorithm and set K = 2.\n",
    "Then all points that are close to each other would be grouped together, and we would only need to determine the sequence for the resulting groups.\n",
    "\n",
    "These are our ideas, but maybe you have completely different ideas and find better approaches and algorithms!\n",
    "\n",
    "Good luck!\n",
    "Your Joshi!"
   ]
  },
  {
   "cell_type": "markdown",
   "id": "6",
   "metadata": {},
   "source": [
    "### Acceptance Criteria\n",
    "\n",
    "* Jupyter notebook `abgabe_tp1_optimierung.py` including a description of the basic idea and the implementation of one or more algorithms\n",
    "* Use of functions to write clean and readable code (Tip: a function should not exceed 10 lines of code. If it does, it should be broken down into smaller functions)\n",
    "* Estimation of the runtime complexity of the algorithms (n = number of machines)\n",
    "* Assessment of how many robots of each type should be purchased to take over the rounds of the employees or to visit all machines once within eight hours\n",
    "* Clear and appealing presentation of the algorithms and results during the presentation (10 minutes total)\n"
   ]
  }
 ],
 "metadata": {
  "kernelspec": {
   "display_name": "Python 3",
   "language": "python",
   "name": "python3"
  },
  "language_info": {
   "codemirror_mode": {
    "name": "ipython",
    "version": 2
   },
   "file_extension": ".py",
   "mimetype": "text/x-python",
   "name": "python",
   "nbconvert_exporter": "python"
  }
 },
 "nbformat": 4,
 "nbformat_minor": 5
}
