{
 "cells": [
  {
   "cell_type": "markdown",
   "id": "0",
   "metadata": {},
   "source": [
    "# IDS Challenge\n",
    "\n",
    "## 01 Optimierung: Dimensionierung Roboterflotte und Optimierung Laufwege\n",
    "\n",
    "Die Einführung der Laufroboter in der Wartungsabteilung war ein Erfolg. \n",
    "Das Unternehmen will die Roboter nun auch für die Qualitätssicherung zum Einsammeln der Proben einsetzen.\n",
    "Es gibt inzwischen aber einen zweiten Robotertyp auf dem Markt.\n",
    "Der neue Typ ist erheblich günstiger, hat aber eine schlechtere Batterie:\n",
    "Typ1, der schon im Einsatz ist, kann 10 Stunden am Stück arbeiten, bevor er aufgeladen werden muss.\n",
    "Typ2, der neue Robotertyp, kann nur 6 Stunden am Stück arbeiten.\n",
    "Die Preise sind noch nicht vollständig klar und hängen auch von der Anzahl der bestellten Roboter ab,\n",
    "aber die Kolleg*innen in der Einkaufsabteilung glauben, dass der Preis für Typ 2 nur 1/3 oder sogar\n",
    "nur 1/4 so hoch wie der Preis für Typ 1 sein wird.\n",
    "Für die Qualitätssicherung soll entschieden werden, wie viele Roboter von welchem Typ \n",
    "angeschafft werden sollen.\n",
    "\n",
    "Bisher haben drei Mitarbeiter\\*innen der Frühschicht selbst die Sequenz bestimmt, in der sie den \n",
    "Rundgang zum Einsammeln der Proben abgearbeitet haben.\n",
    "Jetzt soll die Sequenz, die die Roboter abfahren sollen, automatisch bestimmt werden.\n",
    "Außerdem will der Chef wissen, wie viele Roboter von welchem Typ angeschafft werden sollen,\n",
    "um die drei Rundgänge der Mitarbeiter*innen zu übernehmen.\n",
    "Sie benötigen also einen Algorithmus, der automatisch eine Sequenz der Maschinen bestimmt, die von den Robotern \n",
    "abgelaufen werden soll.\n",
    "Eine Rundtour startet und endet am Labor der Qualitätssicherung (auch Depot genannt).\n",
    "Eine Rundtour darf nicht länger als die Frühschicht, also 8 Stunden, dauern und die Rundtour darf  die Batteriekapazität des gewählten Robotertyps nicht überschreiten.\n",
    "Die Geschäftsführung ist happy, wenn Sie diese Aufgabe erledigen.\n",
    "\n",
    "Dazu sind folgende Daten gegeben:\n",
    "* Set an Maschinen mit Standorten, von denen Materialproben abgeholt werden müssen.\n",
    "* Die drei Sets an Maschinen, die bisher von den drei Personen innerhalb der Frühschicht abgelaufen wurden. \n",
    "(Die Sequenz, die die Mitarbeiter*innen wählen ist unterschiedlich und leider unbekannt.)\n",
    "* Für beide Robotertypen eine Laufzeit-Servicezeit-Matrix, die die Laufzeiten zwischen den Maschinen und Servicezeiten \n",
    "(d.h. die Zeit, die der Roboterarm an der Maschine benötigt, um die Probe in der Kiste auf dem \n",
    "Rücken des Laufroboters zu platzieren) an den Maschinen enthält.\n",
    "\n",
    "Joshi, aus dem Vorgängerteam, hat bereits einige Vorarbeiten geleistet, die Ihnen helfen sollen, die Aufgabe zu lösen.\n",
    "Die Vorarbeiten sind in diesem Jupyter-Notebook enthalten.\n",
    "Er hat außerdem noch die Idee, zu prüfen, ob anstatt drei neuer Roboter, die die Mitarbeiter*innentouren \n",
    "genau so ersetzen, nicht auch zwei Roboter ausreichen, wenn man eine andere Zuordnung von Maschinen zu Rundtouren wählen würde.\n",
    "Sollten Sie die erste Frage schnell beantworten können, dann wäre es Joshis Tip, sich auch diese Frage zu stellen.\n",
    "Sie dürfen aber natürlich auch in eine andere Richtung denken und andere oder weitergehende Ansätze verfolgen.\n",
    "\n",
    "Joshi hat bereits eine Funktionen implementiert, die die Laufzeit einer Sequenz berechnet. Die Funktion `calc_total_tour_time()` finden Sie weiter unten.\n",
    "\n",
    "In diesem Dokument sind die Vorarbeiten und eine kleine Nachricht vom Joshi enthalten!"
   ]
  },
  {
   "cell_type": "markdown",
   "id": "1",
   "metadata": {},
   "source": [
    "## Unsere Vorarbeiten\n",
    "\n",
    "Es existieren bereits einige Dateien, die wir vorbereitet haben.\n",
    "\n",
    "### Maschinenliste für die drei Mitarbeiter*innen aus dem QS Team: gianni, lissi und ben\n",
    "Die Dateien ``points_gianni_55_42.txt``,  ``points_lissi_55_42.txt`` und ``points_ben_55_42.txt`` enthalten alle Maschinen, die die drei jeweils besucht haben. \n",
    "\n",
    "Die Inhalte der Dateien sehen wie folgt aus:\n",
    "```` \n",
    "0; 0; 450.0; 0\n",
    "43; 25.696035620363634; 437.3914169849524; 0\n",
    "44; 293.39534810320026; 479.4355525765641; 1\n",
    "...\n",
    "````\n",
    "\n",
    "Die erste Zahl ist der Index der Maschine oder auch der Index des Punktes, die zweite Zahl ist die x Koordinate, die zweite Zahl die y Koordinate und die dritte Zahl ist das Stockwerk. \n",
    "Der Start- und Endpunkt jeder Roboterrunde ist das Labor der Qualitätssicherung. Dieser Start-/Endpunkt heißt Depot und hat in allen drei Dateien den Index 0 (und steht in der ersten Zeile).\n",
    "\n",
    "\n",
    "### Laufzeit-Servicezeit-Matrix\n",
    "\n",
    "Zur Berechnung der gesamten Tourdauer benötigen wir neben der Toursequenz eine Laufzeit-Servicezeit-Matrix. \n",
    "Die LS Matrix haben wir im Textfiles ``ls_matrix_55_42.txt`` abgespeichert.\n",
    "\n",
    "Das File sieht wie folgt aus:\n",
    "\n",
    "```\n",
    "0; 0; 0\n",
    "0; 1; 1000.0\n",
    "0; 2; 1000.0\n",
    "0; 3; 1123.606797749979\n",
    "...\n",
    "```\n",
    "\n",
    "Jede Zeile steht für eine Verbindung (Kante) zwischen zwei Punkten (Maschinen oder Depot).\n",
    "Die erste Zahl ist der Index des Startpunktes der Verbindung, die zweite Zahl der Index des Zielpunktes der Verbindung und die dritte Zahl \n",
    "ist die Laufzeit inkl. der Servicezeit an der Maschine, die der Endpunkt der Verbindung ist, in Sekunden.\n",
    "Ist der Endpunkt einer Verbindung das Depot, dann wird natürlich keine Servicezeit benötigt.\n",
    "\n",
    "\n",
    "### Tourdauer abhängig von einer Sequenz berechnen\n",
    "\n",
    "Wir haben bereits eine Funktion implementiert, die die Tourdauer für eine gegebene Sequenz berechnet.\n",
    "Dafür haben wir uns eine kleine Beispielmatrix mit nur 4 Maschinen und dem Start-/Endpunkt überlegt.\n",
    "Die Distanzmatrix haben mit Hilfe eines Dictionary angegeben.\n",
    "Eine Funktion, die die Textfiles einliest, haben wir leider noch nicht implementiert...\n",
    "\n",
    "Ihr könnt also die Funktion ``calc_total_tour_time`` verwenden, um die Tourdauer für eine gegebene Sequenz zu berechnen."
   ]
  },
  {
   "cell_type": "code",
   "id": "2",
   "metadata": {
    "ExecuteTime": {
     "end_time": "2025-06-24T21:31:33.946866Z",
     "start_time": "2025-06-24T21:31:33.914673Z"
    }
   },
   "source": [
    "def calc_total_tour_time(sequ, matrix):\n",
    "    total_time = 0\n",
    "    for i in range(len(sequ)-1):\n",
    "        total_time += matrix[sequ[i], sequ[i+1]]\n",
    "    return total_time"
   ],
   "outputs": [],
   "execution_count": 3
  },
  {
   "cell_type": "markdown",
   "id": "3",
   "metadata": {},
   "source": [
    "Hier der Test der Funktion mit unserer kleinen Distanzmatrix:"
   ]
  },
  {
   "cell_type": "code",
   "id": "4",
   "metadata": {
    "ExecuteTime": {
     "end_time": "2025-06-25T11:55:30.053316Z",
     "start_time": "2025-06-25T11:55:30.028891Z"
    }
   },
   "source": [
    "lsm_dict = {(0, 0): 0, (0, 1): 1000.0, (0, 2): 1000.0, (0, 3): 1123.606797749979, (0, 4): 1123.606797749979, (1, 0): 1000.0, (1, 1): 0, (1, 2): 1100.0, (1, 3): 1182.842712474619, (1, 4): 1100.0, (2, 0): 1000.0, (2, 1): 1100.0, (2, 2): 0, (2, 3): 1100.0, (2, 4): 1182.842712474619, (3, 0): 1123.606797749979, (3, 1): 1182.842712474619, (3, 2): 1100.0, (3, 3): 0, (3, 4): 1100.0, (4, 0): 1123.606797749979, (4, 1): 1100.0, (4, 2): 1182.842712474619, (4, 3): 1100.0, (4, 4): 0}\n",
    "\n",
    "sequence = [0, 2, 3, 4, 1, 0]\n",
    "\n",
    "\n",
    "tour_time_sec = calc_total_tour_time(sequence, lsm_dict)\n",
    "\n",
    "print(f\"Total time for the tour: {tour_time_sec} seconds\")\n",
    "print(f\"Total time for the tour: {tour_time_sec/60} minutes\")\n",
    "print(f\"Total time for the tour: {tour_time_sec/3600} hours\")"
   ],
   "outputs": [
    {
     "name": "stdout",
     "output_type": "stream",
     "text": [
      "Total time for the tour: 5300.0 seconds\n",
      "Total time for the tour: 88.33333333333333 minutes\n",
      "Total time for the tour: 1.4722222222222223 hours\n"
     ]
    }
   ],
   "execution_count": 5
  },
  {
   "cell_type": "markdown",
   "id": "5",
   "metadata": {},
   "source": [
    "# Unsere Vorüberlegungen\n",
    "\n",
    "## Überblick verschaffen\n",
    "Im ersten Schritt wollten wir uns mal einen Überblick verschaffen und alle Punkte aus der Liste von den drei Mitarbeiter*innen in eine Liste packen.\n",
    "Da es sich ja um x-y-Koordinaten handelt, wollten wir uns einen 2D Scatterplot der Punkte machen und je nachdem in welchem Stockwerk sich die Maschine befindet, die Punkte unterschiedlich einfärben.\n",
    "Außerdem wollten wir die Punkte mit den Indizes beschriften, damit wir später wissen, welche Maschine gemeint ist.\n",
    "Wir könnten außerdem die Punkte mit unterschiedlichen Markierungen einzeichnen, je nachdem, ob es sich um Punkte von gianni, lissi oder ben handelt.\n",
    "Vielleicht hilft Euch ein LLM beim Erstellen des Scatterplots.\n",
    "\n",
    "## Algorithmus zur Bestimmung der Sequenz\n",
    "Wir kennen uns nicht gut mit Optimierung aus. \n",
    "Wir haben gehört, dass es Algorithmen gibt, die die optimale Sequenz (Sequenzen werden wohl oft auch Touren genannt), d.h. die kürzest mögliche Sequenz, bei gegebener LSM berechnen.\n",
    "Aber wir würden erst mal einen einfachen Algorithmus implementieren, der eine Sequenz Schritt für Schritt aufbaut und immer den nächsten Nachbarn anhängt.\n",
    "Am Ende wird die Sequenz abgeschlossen, indem der Startpunkt an das Ende angehängt wird - der Roboter muss ja zurück zum Ausgangspunkt.\n",
    "Vielleicht ist das ja schon eine Sequenz, die gut genug ist, um Rundgänge für alle drei Mitarbeiter*innen zu bestimmen.\n",
    "Alternativ könntet ihr versuchen, etablierte Algorithmen zu finden (Achtung, die solltet Ihr dann aber verstehen und in der Präsentation erklären können).\n",
    "\n",
    "Wir haben überlegt, dass vielleicht ein ganz einfacheres Setup zum Testen gut wäre.\n",
    "Wir wollten uns eine kleine Distanzmatrix mit nur 3 Maschinen und dem Start-/Endpunkt überlegen.\n",
    "Dazu würden wir einfach annehmen, dass wir im 2 dimensionalen Raum ohne Hindernisse sind und der Start-/Endpunkt an der Position (0,0) (Index 0) liegt und die Maschinen an den Punkten (10,10) (Index 1), (0,10) (Index 2) und (10,0) (Index 3) sind.\n",
    "Damit könnten wir einfach eine Laufzeitmatrix über die Euklidische Distanz berechnen (es gibt ja keine Wege oder Hindernisse) und wir können uns das ganz einfach aufmalen.\n",
    "Wir tun einfach so, als würde eine Entfernungseinheit in einer Sekunde zurückgelegt werden.\n",
    "Die kürzeste Sequenz wäre dann einfach die Sequenz ``[0, 2, 1, 3, 0]`` oder auch umgekehrt ``[0, 3, 1, 2, 0]``.\n",
    "\n",
    "Solche ganz einfachen Beispiele helfen uns oft, um zu verstehen, wie wir die Algorithmen implementieren müssen.\n",
    "Wenn es für das einfache Beispiel funktioniert, dann können wir uns ein etwas komplexeres ausdenken und dann auf die echten Daten anwenden.\n",
    "\n",
    "Vielleicht findet Ihr einen Plotvariant, um die Lösung im Scatterplot zu visualisieren.\n",
    "\n",
    "Zur Erinnerung die Formel für Euklidische Distanz zwischen zwei Punkten: $\\sqrt{(x_1 - x_2)^2 + (y_1 - y_2)^2}$ \n",
    "\n",
    "## Anzahl Roboter\n",
    "Wir haben außerdem beim Beobachten der QS Mitarbeiter*innen gesehen, dass die Zuteilung von Maschinen zu Mitarbeiter*innen nicht besonders gut ist - vielleicht seht Ihr das auch in Eurem Scatterplot.\n",
    "Da könnte man ja mal den K-Means Clustering Algorithmus verwenden und K = 2 setzen.\n",
    "Dann würden alle Punkte, die nah beieinander liegen in eine Gruppe gepackt und wir müssten nur noch die Sequenz \n",
    "für die beiden resultierenden Gruppen bestimmen.\n",
    "\n",
    "Das sind unsere Ideen, aber vielleicht habt Ihr ganz andere Ideen und findet bessere Ansätze und Algorithmen!\n",
    "\n",
    "Viel Erfolg! Euer Joshi!"
   ]
  },
  {
   "cell_type": "markdown",
   "id": "6",
   "metadata": {},
   "source": [
    "### Abnahmekriterien\n",
    "\n",
    "* Jupyter-Notebook `abgabe_tp1_optimierung.py` mit Darstellung der groben Idee und mit der Implementierung eines oder mehrerer Algorithmen\n",
    "* Verwendung von Funktionen, um gut lesbaren Code zu schreiben (Tipp: eine Funktion sollte nicht mehr als 10 Zeilen Code enthalten. Enthält sie mehr, sollte sie in kleinere Funktionen aufgeteilt werden)\n",
    "* Einschätzung zur Laufzeitkomplexität der Algorithmen (n = Anzahl Maschinen) \n",
    "* Einschätzung, wieviele Roboter von welchem Typ angeschafft werden sollten, um die Rundgänge der Mitarbeiter*innen zu übernehmen bzw. um alle Maschinen in acht Stunden einmal zu besuchen\n",
    "* Ansprechende Präsentation der Algorithmen und Ergebnisse im Vortrag (insgesamt 10 Minuten)"
   ]
  }
 ],
 "metadata": {
  "kernelspec": {
   "display_name": "Python 3",
   "language": "python",
   "name": "python3"
  },
  "language_info": {
   "codemirror_mode": {
    "name": "ipython",
    "version": 2
   },
   "file_extension": ".py",
   "mimetype": "text/x-python",
   "name": "python",
   "nbconvert_exporter": "python"
  }
 },
 "nbformat": 4,
 "nbformat_minor": 5
}
