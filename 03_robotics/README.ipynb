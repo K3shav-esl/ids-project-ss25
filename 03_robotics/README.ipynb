{
 "cells": [
  {
   "cell_type": "markdown",
   "id": "0",
   "metadata": {
    "collapsed": false,
    "jupyter": {
     "outputs_hidden": false
    }
   },
   "source": [
    "# IDS Challenge\n",
    "## 03 Roboterkinematik für einfachen Roboterarm mit zwei Gelenken: Arbeitsanweisungen und Hinweise\n",
    "\n",
    "Dieses Teilprojekt konzentriert sich auf die Steuerung eines Roboterarms, der Materialproben vorsichtig handhabt. Die Proben müssen aufgenommen und anschließend in einer Box auf dem Rücken des Quadrupeds abgelegt werden (Pick-and-Place-Aufgabe). Dabei ist es wichtig, dass der Roboter während der Bewegung nicht mit der Umgebung kollidiert. Daher ist es Ihre Aufgabe Lösungen für die direkte und inverse Kinematik zu entwickeln und anzuwenden.\n",
    "\n",
    "Die detaillierte Beschreibung der Aufgaben finden Sie in den Jupyter Notebooks  `abgabe_tp3_inverse_kinematik.ipynb` und `abgabe_tp3_direktr_kinematik.ipynb`. Bitte implementieren Sie Ihre Lösungen direkt in diesen Notebooks. Achten Sie darauf, dass Ihre Lösungen klar, gut kommentiert und direkt auf die in den Notebooks beschriebenen Probleme zugeschnitten sind.\n",
    "\n",
    "Nachdem Sie Ihre Implementierungen abgeschlossen haben, laden Sie bitte die geänderten Notebooks in ILIAS hoch.\n",
    "\n",
    "Zur Unterstützung dieser Aufgabe stehen Ihnen in den Notebooks folgende Ressourcen zur Verfügung: ein Diagramm des Roboterarms, die mathematischen Gleichungen für die Kinematik und einige Python-Visualisierungsfunktionen.\n"
   ]
  },
  {
   "cell_type": "markdown",
   "id": "1",
   "metadata": {
    "collapsed": false,
    "jupyter": {
     "outputs_hidden": false
    }
   },
   "source": [
    "### Repository-Übersicht\n",
    "\n",
    "Hier finden Sie eine Übersicht der Dateien für dieses Teilprojekt.\n",
    "\n",
    "```bash\n",
    "├───abgabe_tp3_inverse_kinematik.ipynb\n",
    "├───abgabe_tp3_direkte_kinematik.ipynb\n",
    "├───README_EN.ipynb\n",
    "├───2_link_robot.png\n",
    "```"
   ]
  },
  {
   "cell_type": "markdown",
   "id": "5",
   "metadata": {
    "collapsed": false,
    "jupyter": {
     "outputs_hidden": false
    }
   },
   "source": [
    "### Abnahmekriterien\n",
    "\n",
    "* Die Jupyter Notebooks `abgabe_tp3_inverse_kinematik.ipynb` und `abgabe_tp3_direkte_kinematik.ipynb` mit Ihren Lösungen\n",
    "* Eine Visualisierung der Aufgaben (unter Verwendung der bereitgestellten Funktionen)\n",
    "* Eine ansprechende Präsentation des Vorgehens und der Ergebnisse in der Vorlesung (insgesamt 10 Minuten)."
   ]
  }
 ],
 "metadata": {
  "kernelspec": {
   "display_name": "Python 3 (ipykernel)",
   "language": "python",
   "name": "python3"
  },
  "language_info": {
   "codemirror_mode": {
    "name": "ipython",
    "version": 3
   },
   "file_extension": ".py",
   "mimetype": "text/x-python",
   "name": "python",
   "nbconvert_exporter": "python",
   "pygments_lexer": "ipython3",
   "version": "3.13.5"
  }
 },
 "nbformat": 4,
 "nbformat_minor": 5
}
