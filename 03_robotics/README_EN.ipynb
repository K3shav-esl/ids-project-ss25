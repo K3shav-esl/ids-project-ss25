{
 "cells": [
  {
   "cell_type": "markdown",
   "id": "0",
   "metadata": {
    "collapsed": false,
    "jupyter": {
     "outputs_hidden": false
    }
   },
   "source": [
    "# IDS Challenge\n",
    "## 03 Robotic Kinematics of a 2-Link Planar Robot Arm: Instructions and Notes\n",
    "\n",
    "This sub-project focuses on the control of the robot arm handling the material samples carefully. The samples need to be picked up and then placed in a box on the back of the walking robot (pick-and-place task). It is important that the robot does not collide with any object while moving. Therefore, it is your task to develop a concept for the robot's kinematics - with objectives to develop and apply solutions for both direct and inverse kinematics.\n",
    "\n",
    "The description of the tasks can be found in the notebooks `submission_tp3_inverse_kinematics.ipynb` and `submission_tp3_direct_kinematics.ipynb`. Implement your solutions in those notebooks. Ensure your solutions are clear, well-commented, and directly address the problems outlined within these notebooks.\n",
    "\n",
    "After completing your implementations in the Jupyter Notebooks, please upload the modified notebooks to ILIAS.\n",
    "\n",
    "To assist you with this task, the following resources are available in the notebooks: robot arm diagram, the mathematical equations for kinematics, and some Python visualization functions."
   ]
  },
  {
   "cell_type": "markdown",
   "id": "1",
   "metadata": {
    "collapsed": false,
    "jupyter": {
     "outputs_hidden": false
    }
   },
   "source": [
    "### Repository overview\n",
    "\n",
    "Here you will find an overview of the files for this sub-project.\n",
    "\n",
    "```bash\n",
    "├───submission_tp3_inverse_kinematics.ipynb\n",
    "├───submission_tp3_direct_kinematics.ipynb\n",
    "├───README_EN.ipynb\n",
    "├───2_link_robot.png\n",
    "```"
   ]
  },
  {
   "cell_type": "markdown",
   "id": "5",
   "metadata": {
    "collapsed": false,
    "jupyter": {
     "outputs_hidden": false
    }
   },
   "source": [
    "### Acceptance criteria\n",
    "\n",
    "* Jupyter notebooks `submission_tp3_direct_kinematics.ipynb` and `submission_tp3_inverse_kinematics.ipynb` with your solutions\n",
    "* Visualization of the tasks (with the provided function)\n",
    "* Appealing presentation of the procedure and the results in the lecture (10 minutes in total)"
   ]
  }
 ],
 "metadata": {
  "kernelspec": {
   "display_name": "Python 3 (ipykernel)",
   "language": "python",
   "name": "python3"
  },
  "language_info": {
   "codemirror_mode": {
    "name": "ipython",
    "version": 3
   },
   "file_extension": ".py",
   "mimetype": "text/x-python",
   "name": "python",
   "nbconvert_exporter": "python",
   "pygments_lexer": "ipython3",
   "version": "3.13.5"
  }
 },
 "nbformat": 4,
 "nbformat_minor": 5
}
